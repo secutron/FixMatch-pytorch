{
  "nbformat": 4,
  "nbformat_minor": 0,
  "metadata": {
    "colab": {
      "name": "FixMatch-pytorch-on-TPUs.ipynb",
      "provenance": [],
      "collapsed_sections": [],
      "include_colab_link": true
    },
    "kernelspec": {
      "name": "python3",
      "display_name": "Python 3"
    },
    "widgets": {
      "application/vnd.jupyter.widget-state+json": {
        "5a99755d4ff24fd8ab698a46de1cbe24": {
          "model_module": "@jupyter-widgets/controls",
          "model_name": "HBoxModel",
          "state": {
            "_view_name": "HBoxView",
            "_dom_classes": [],
            "_model_name": "HBoxModel",
            "_view_module": "@jupyter-widgets/controls",
            "_model_module_version": "1.5.0",
            "_view_count": null,
            "_view_module_version": "1.5.0",
            "box_style": "",
            "layout": "IPY_MODEL_f6b74257c7f840c9851299254eed0e9d",
            "_model_module": "@jupyter-widgets/controls",
            "children": [
              "IPY_MODEL_0cc30d1e9de84a779c55c3f69bc3b3fd",
              "IPY_MODEL_7f2aa4d9ac5b436aa61e673fb36a0885"
            ]
          }
        },
        "f6b74257c7f840c9851299254eed0e9d": {
          "model_module": "@jupyter-widgets/base",
          "model_name": "LayoutModel",
          "state": {
            "_view_name": "LayoutView",
            "grid_template_rows": null,
            "right": null,
            "justify_content": null,
            "_view_module": "@jupyter-widgets/base",
            "overflow": null,
            "_model_module_version": "1.2.0",
            "_view_count": null,
            "flex_flow": null,
            "width": null,
            "min_width": null,
            "border": null,
            "align_items": null,
            "bottom": null,
            "_model_module": "@jupyter-widgets/base",
            "top": null,
            "grid_column": null,
            "overflow_y": null,
            "overflow_x": null,
            "grid_auto_flow": null,
            "grid_area": null,
            "grid_template_columns": null,
            "flex": null,
            "_model_name": "LayoutModel",
            "justify_items": null,
            "grid_row": null,
            "max_height": null,
            "align_content": null,
            "visibility": null,
            "align_self": null,
            "height": null,
            "min_height": null,
            "padding": null,
            "grid_auto_rows": null,
            "grid_gap": null,
            "max_width": null,
            "order": null,
            "_view_module_version": "1.2.0",
            "grid_template_areas": null,
            "object_position": null,
            "object_fit": null,
            "grid_auto_columns": null,
            "margin": null,
            "display": null,
            "left": null
          }
        },
        "0cc30d1e9de84a779c55c3f69bc3b3fd": {
          "model_module": "@jupyter-widgets/controls",
          "model_name": "FloatProgressModel",
          "state": {
            "_view_name": "ProgressView",
            "style": "IPY_MODEL_99f67c6ea1ff462f8690028e7aea009c",
            "_dom_classes": [],
            "description": "",
            "_model_name": "FloatProgressModel",
            "bar_style": "success",
            "max": 170498071,
            "_view_module": "@jupyter-widgets/controls",
            "_model_module_version": "1.5.0",
            "value": 170498071,
            "_view_count": null,
            "_view_module_version": "1.5.0",
            "orientation": "horizontal",
            "min": 0,
            "description_tooltip": null,
            "_model_module": "@jupyter-widgets/controls",
            "layout": "IPY_MODEL_e24ded1768ae4d518714bcf4bff87300"
          }
        },
        "7f2aa4d9ac5b436aa61e673fb36a0885": {
          "model_module": "@jupyter-widgets/controls",
          "model_name": "HTMLModel",
          "state": {
            "_view_name": "HTMLView",
            "style": "IPY_MODEL_b933765189f14fd9bf7f5f6f0ebd91c0",
            "_dom_classes": [],
            "description": "",
            "_model_name": "HTMLModel",
            "placeholder": "​",
            "_view_module": "@jupyter-widgets/controls",
            "_model_module_version": "1.5.0",
            "value": " 170499072/? [00:02&lt;00:00, 57524854.01it/s]",
            "_view_count": null,
            "_view_module_version": "1.5.0",
            "description_tooltip": null,
            "_model_module": "@jupyter-widgets/controls",
            "layout": "IPY_MODEL_dd514b35ff9348c8951abca5332714cc"
          }
        },
        "99f67c6ea1ff462f8690028e7aea009c": {
          "model_module": "@jupyter-widgets/controls",
          "model_name": "ProgressStyleModel",
          "state": {
            "_view_name": "StyleView",
            "_model_name": "ProgressStyleModel",
            "description_width": "initial",
            "_view_module": "@jupyter-widgets/base",
            "_model_module_version": "1.5.0",
            "_view_count": null,
            "_view_module_version": "1.2.0",
            "bar_color": null,
            "_model_module": "@jupyter-widgets/controls"
          }
        },
        "e24ded1768ae4d518714bcf4bff87300": {
          "model_module": "@jupyter-widgets/base",
          "model_name": "LayoutModel",
          "state": {
            "_view_name": "LayoutView",
            "grid_template_rows": null,
            "right": null,
            "justify_content": null,
            "_view_module": "@jupyter-widgets/base",
            "overflow": null,
            "_model_module_version": "1.2.0",
            "_view_count": null,
            "flex_flow": null,
            "width": null,
            "min_width": null,
            "border": null,
            "align_items": null,
            "bottom": null,
            "_model_module": "@jupyter-widgets/base",
            "top": null,
            "grid_column": null,
            "overflow_y": null,
            "overflow_x": null,
            "grid_auto_flow": null,
            "grid_area": null,
            "grid_template_columns": null,
            "flex": null,
            "_model_name": "LayoutModel",
            "justify_items": null,
            "grid_row": null,
            "max_height": null,
            "align_content": null,
            "visibility": null,
            "align_self": null,
            "height": null,
            "min_height": null,
            "padding": null,
            "grid_auto_rows": null,
            "grid_gap": null,
            "max_width": null,
            "order": null,
            "_view_module_version": "1.2.0",
            "grid_template_areas": null,
            "object_position": null,
            "object_fit": null,
            "grid_auto_columns": null,
            "margin": null,
            "display": null,
            "left": null
          }
        },
        "b933765189f14fd9bf7f5f6f0ebd91c0": {
          "model_module": "@jupyter-widgets/controls",
          "model_name": "DescriptionStyleModel",
          "state": {
            "_view_name": "StyleView",
            "_model_name": "DescriptionStyleModel",
            "description_width": "",
            "_view_module": "@jupyter-widgets/base",
            "_model_module_version": "1.5.0",
            "_view_count": null,
            "_view_module_version": "1.2.0",
            "_model_module": "@jupyter-widgets/controls"
          }
        },
        "dd514b35ff9348c8951abca5332714cc": {
          "model_module": "@jupyter-widgets/base",
          "model_name": "LayoutModel",
          "state": {
            "_view_name": "LayoutView",
            "grid_template_rows": null,
            "right": null,
            "justify_content": null,
            "_view_module": "@jupyter-widgets/base",
            "overflow": null,
            "_model_module_version": "1.2.0",
            "_view_count": null,
            "flex_flow": null,
            "width": null,
            "min_width": null,
            "border": null,
            "align_items": null,
            "bottom": null,
            "_model_module": "@jupyter-widgets/base",
            "top": null,
            "grid_column": null,
            "overflow_y": null,
            "overflow_x": null,
            "grid_auto_flow": null,
            "grid_area": null,
            "grid_template_columns": null,
            "flex": null,
            "_model_name": "LayoutModel",
            "justify_items": null,
            "grid_row": null,
            "max_height": null,
            "align_content": null,
            "visibility": null,
            "align_self": null,
            "height": null,
            "min_height": null,
            "padding": null,
            "grid_auto_rows": null,
            "grid_gap": null,
            "max_width": null,
            "order": null,
            "_view_module_version": "1.2.0",
            "grid_template_areas": null,
            "object_position": null,
            "object_fit": null,
            "grid_auto_columns": null,
            "margin": null,
            "display": null,
            "left": null
          }
        }
      }
    }
  },
  "cells": [
    {
      "cell_type": "markdown",
      "metadata": {
        "id": "view-in-github",
        "colab_type": "text"
      },
      "source": [
        "<a href=\"https://colab.research.google.com/github/secutron/FixMatch-pytorch/blob/master/FixMatch_pytorch_on_TPUs.ipynb\" target=\"_parent\"><img src=\"https://colab.research.google.com/assets/colab-badge.svg\" alt=\"Open In Colab\"/></a>"
      ]
    },
    {
      "cell_type": "markdown",
      "metadata": {
        "id": "xw62m-MtZmUw"
      },
      "source": [
        "# FixMatch with Pytorch on TPUs - experimental\n",
        "\n",
        "Code: https://github.com/vfdev-5/FixMatch-pytorch/\n"
      ]
    },
    {
      "cell_type": "markdown",
      "metadata": {
        "id": "djEc5_w9Clbu"
      },
      "source": [
        "### Install requirements:"
      ]
    },
    {
      "cell_type": "code",
      "metadata": {
        "id": "gifW7MX3eSaf",
        "colab": {
          "base_uri": "https://localhost:8080/"
        },
        "outputId": "9a4a9c07-7c69-4571-99da-5b542d6773fa"
      },
      "source": [
        "'''\n",
        "import os\n",
        "assert os.environ['COLAB_TPU_ADDR'], 'Make sure to select TPU from Edit > Notebook settings > Hardware accelerator'\n",
        "\n",
        "\n",
        "try:\n",
        "  import torch_xla\n",
        "  import ignite\n",
        "except ImportError:\n",
        "  VERSION = \"20210304\"    \n",
        "  # VERSION = \"nightly\"\n",
        "  # VERSION = \"20200607\"\n",
        "  !curl https://raw.githubusercontent.com/pytorch/xla/master/contrib/scripts/env-setup.py -o pytorch-xla-env-setup.py\n",
        "  !python pytorch-xla-env-setup.py --version $VERSION\n",
        "  !pip install --upgrade git+https://github.com/pytorch/ignite\n",
        "  !pip install --upgrade --pre hydra-core\n",
        "  !pip install wandb\n",
        "  !pip uninstall -y pillow && CC=\"cc -mavx2\" pip install --no-cache-dir --force-reinstall pillow-simd\n",
        "'''\n",
        "\n",
        "!pip install pytorch-ignite\n",
        "\n",
        "!pip install hydra-core"
      ],
      "execution_count": 1,
      "outputs": [
        {
          "output_type": "stream",
          "text": [
            "Collecting pytorch-ignite\n",
            "  Downloading pytorch_ignite-0.4.6-py3-none-any.whl (232 kB)\n",
            "\u001b[?25l\r\u001b[K     |█▍                              | 10 kB 15.3 MB/s eta 0:00:01\r\u001b[K     |██▉                             | 20 kB 19.2 MB/s eta 0:00:01\r\u001b[K     |████▎                           | 30 kB 11.5 MB/s eta 0:00:01\r\u001b[K     |█████▋                          | 40 kB 11.0 MB/s eta 0:00:01\r\u001b[K     |███████                         | 51 kB 5.7 MB/s eta 0:00:01\r\u001b[K     |████████▌                       | 61 kB 5.6 MB/s eta 0:00:01\r\u001b[K     |█████████▉                      | 71 kB 5.3 MB/s eta 0:00:01\r\u001b[K     |███████████▎                    | 81 kB 5.8 MB/s eta 0:00:01\r\u001b[K     |████████████▊                   | 92 kB 5.7 MB/s eta 0:00:01\r\u001b[K     |██████████████                  | 102 kB 5.2 MB/s eta 0:00:01\r\u001b[K     |███████████████▌                | 112 kB 5.2 MB/s eta 0:00:01\r\u001b[K     |█████████████████               | 122 kB 5.2 MB/s eta 0:00:01\r\u001b[K     |██████████████████▎             | 133 kB 5.2 MB/s eta 0:00:01\r\u001b[K     |███████████████████▊            | 143 kB 5.2 MB/s eta 0:00:01\r\u001b[K     |█████████████████████▏          | 153 kB 5.2 MB/s eta 0:00:01\r\u001b[K     |██████████████████████▌         | 163 kB 5.2 MB/s eta 0:00:01\r\u001b[K     |████████████████████████        | 174 kB 5.2 MB/s eta 0:00:01\r\u001b[K     |█████████████████████████▍      | 184 kB 5.2 MB/s eta 0:00:01\r\u001b[K     |██████████████████████████▊     | 194 kB 5.2 MB/s eta 0:00:01\r\u001b[K     |████████████████████████████▏   | 204 kB 5.2 MB/s eta 0:00:01\r\u001b[K     |█████████████████████████████▋  | 215 kB 5.2 MB/s eta 0:00:01\r\u001b[K     |███████████████████████████████ | 225 kB 5.2 MB/s eta 0:00:01\r\u001b[K     |████████████████████████████████| 232 kB 5.2 MB/s \n",
            "\u001b[?25hRequirement already satisfied: torch<2,>=1.3 in /usr/local/lib/python3.7/dist-packages (from pytorch-ignite) (1.9.0+cu102)\n",
            "Requirement already satisfied: typing-extensions in /usr/local/lib/python3.7/dist-packages (from torch<2,>=1.3->pytorch-ignite) (3.7.4.3)\n",
            "Installing collected packages: pytorch-ignite\n",
            "Successfully installed pytorch-ignite-0.4.6\n",
            "Collecting hydra-core\n",
            "  Downloading hydra_core-1.1.0-py3-none-any.whl (144 kB)\n",
            "\u001b[K     |████████████████████████████████| 144 kB 5.0 MB/s \n",
            "\u001b[?25hRequirement already satisfied: importlib-resources in /usr/local/lib/python3.7/dist-packages (from hydra-core) (5.2.0)\n",
            "Collecting antlr4-python3-runtime==4.8\n",
            "  Downloading antlr4-python3-runtime-4.8.tar.gz (112 kB)\n",
            "\u001b[K     |████████████████████████████████| 112 kB 19.1 MB/s \n",
            "\u001b[?25hCollecting omegaconf==2.1.*\n",
            "  Downloading omegaconf-2.1.0-py3-none-any.whl (74 kB)\n",
            "\u001b[K     |████████████████████████████████| 74 kB 2.6 MB/s \n",
            "\u001b[?25hCollecting PyYAML>=5.1.*\n",
            "  Downloading PyYAML-5.4.1-cp37-cp37m-manylinux1_x86_64.whl (636 kB)\n",
            "\u001b[K     |████████████████████████████████| 636 kB 19.4 MB/s \n",
            "\u001b[?25hRequirement already satisfied: zipp>=3.1.0 in /usr/local/lib/python3.7/dist-packages (from importlib-resources->hydra-core) (3.5.0)\n",
            "Building wheels for collected packages: antlr4-python3-runtime\n",
            "  Building wheel for antlr4-python3-runtime (setup.py) ... \u001b[?25l\u001b[?25hdone\n",
            "  Created wheel for antlr4-python3-runtime: filename=antlr4_python3_runtime-4.8-py3-none-any.whl size=141229 sha256=890140964329c59bad0e9286314c95fb7f7a65cc2c7ba67dfe41017603ffd3f4\n",
            "  Stored in directory: /root/.cache/pip/wheels/ca/33/b7/336836125fc9bb4ceaa4376d8abca10ca8bc84ddc824baea6c\n",
            "Successfully built antlr4-python3-runtime\n",
            "Installing collected packages: PyYAML, antlr4-python3-runtime, omegaconf, hydra-core\n",
            "  Attempting uninstall: PyYAML\n",
            "    Found existing installation: PyYAML 3.13\n",
            "    Uninstalling PyYAML-3.13:\n",
            "      Successfully uninstalled PyYAML-3.13\n",
            "Successfully installed PyYAML-5.4.1 antlr4-python3-runtime-4.8 hydra-core-1.1.0 omegaconf-2.1.0\n"
          ],
          "name": "stdout"
        }
      ]
    },
    {
      "cell_type": "markdown",
      "metadata": {
        "id": "1oicoHubCt_r"
      },
      "source": [
        "### Download dataset:"
      ]
    },
    {
      "cell_type": "code",
      "metadata": {
        "colab": {
          "base_uri": "https://localhost:8080/"
        },
        "id": "74FdQIRjbUW2",
        "outputId": "24d5234e-86e2-45a9-ee3d-73f8748b7d28"
      },
      "source": [
        "%cd /content/"
      ],
      "execution_count": 2,
      "outputs": [
        {
          "output_type": "stream",
          "text": [
            "/content\n"
          ],
          "name": "stdout"
        }
      ]
    },
    {
      "cell_type": "code",
      "metadata": {
        "id": "bxMvVxoalCUi",
        "colab": {
          "base_uri": "https://localhost:8080/",
          "height": 100,
          "referenced_widgets": [
            "5a99755d4ff24fd8ab698a46de1cbe24",
            "f6b74257c7f840c9851299254eed0e9d",
            "0cc30d1e9de84a779c55c3f69bc3b3fd",
            "7f2aa4d9ac5b436aa61e673fb36a0885",
            "99f67c6ea1ff462f8690028e7aea009c",
            "e24ded1768ae4d518714bcf4bff87300",
            "b933765189f14fd9bf7f5f6f0ebd91c0",
            "dd514b35ff9348c8951abca5332714cc"
          ]
        },
        "outputId": "78ca2ee3-251b-4c16-b253-284796967cf9"
      },
      "source": [
        "# Download dataset:\n",
        "from torchvision.datasets import CIFAR10\n",
        "\n",
        "CIFAR10(\"/content/cifar10\", train=True, download=True);"
      ],
      "execution_count": 3,
      "outputs": [
        {
          "output_type": "stream",
          "text": [
            "Downloading https://www.cs.toronto.edu/~kriz/cifar-10-python.tar.gz to /content/cifar10/cifar-10-python.tar.gz\n"
          ],
          "name": "stdout"
        },
        {
          "output_type": "display_data",
          "data": {
            "application/vnd.jupyter.widget-view+json": {
              "model_id": "5a99755d4ff24fd8ab698a46de1cbe24",
              "version_minor": 0,
              "version_major": 2
            },
            "text/plain": [
              "HBox(children=(FloatProgress(value=0.0, max=170498071.0), HTML(value='')))"
            ]
          },
          "metadata": {
            "tags": []
          }
        },
        {
          "output_type": "stream",
          "text": [
            "\n",
            "Extracting /content/cifar10/cifar-10-python.tar.gz to /content/cifar10\n"
          ],
          "name": "stdout"
        }
      ]
    },
    {
      "cell_type": "markdown",
      "metadata": {
        "id": "BS-0uom3CxF0"
      },
      "source": [
        "### Get the code:"
      ]
    },
    {
      "cell_type": "code",
      "metadata": {
        "id": "HQU8AkGUUnrG",
        "colab": {
          "base_uri": "https://localhost:8080/"
        },
        "outputId": "ad5c0bf9-d413-4e3f-ce1b-34f5cfdb3b4d"
      },
      "source": [
        "!git clone https://github.com/secutron/FixMatch-pytorch/"
      ],
      "execution_count": 4,
      "outputs": [
        {
          "output_type": "stream",
          "text": [
            "Cloning into 'FixMatch-pytorch'...\n",
            "remote: Enumerating objects: 294, done.\u001b[K\n",
            "remote: Counting objects: 100% (294/294), done.\u001b[K\n",
            "remote: Compressing objects: 100% (193/193), done.\u001b[K\n",
            "remote: Total 294 (delta 167), reused 164 (delta 76), pack-reused 0\u001b[K\n",
            "Receiving objects: 100% (294/294), 112.20 KiB | 4.88 MiB/s, done.\n",
            "Resolving deltas: 100% (167/167), done.\n"
          ],
          "name": "stdout"
        }
      ]
    },
    {
      "cell_type": "markdown",
      "metadata": {
        "id": "2-45vgIcDCgj"
      },
      "source": [
        "#### Optionally, login to `W&B`\n",
        "\n",
        "To skip logging to `W&B`, please set `online_exp_tracking.wandb=false` "
      ]
    },
    {
      "cell_type": "code",
      "metadata": {
        "id": "TOTdc6wXU94W"
      },
      "source": [
        "# !wandb login <token>"
      ],
      "execution_count": 5,
      "outputs": []
    },
    {
      "cell_type": "markdown",
      "metadata": {
        "id": "jGu44tDFDkjQ"
      },
      "source": [
        "### Let's train ResNet18 model in a faster mode"
      ]
    },
    {
      "cell_type": "code",
      "metadata": {
        "colab": {
          "base_uri": "https://localhost:8080/",
          "height": 35
        },
        "id": "ytr0u8ldZ36h",
        "outputId": "1f73bd2b-69de-4dab-ab7c-c147f7faa9ec"
      },
      "source": [
        "%pwd"
      ],
      "execution_count": 6,
      "outputs": [
        {
          "output_type": "execute_result",
          "data": {
            "application/vnd.google.colaboratory.intrinsic+json": {
              "type": "string"
            },
            "text/plain": [
              "'/content'"
            ]
          },
          "metadata": {
            "tags": []
          },
          "execution_count": 6
        }
      ]
    },
    {
      "cell_type": "code",
      "metadata": {
        "id": "poJkPrRCPJDz",
        "colab": {
          "base_uri": "https://localhost:8080/"
        },
        "outputId": "3a988663-2899-4cdf-c628-c0c6e669a06c"
      },
      "source": [
        "\n",
        "'''\n",
        "!cd FixMatch-pytorch && export PYTHONPATH=$PWD:$PYTHONPATH && \\\n",
        "  python main_fixmatch.py distributed.backend=xla-tpu distributed.nproc_per_node=8 online_exp_tracking.wandb=true solver.num_epochs=1 \\\n",
        "    ssl.confidence_threshold=0.7 ema_decay=0.9 ssl.cta_update_every=15 solver.optimizer.params.lr=0.1\n",
        "'''\n",
        "\n",
        "%cd FixMatch-pytorch/"
      ],
      "execution_count": 7,
      "outputs": [
        {
          "output_type": "stream",
          "text": [
            "/content/FixMatch-pytorch\n"
          ],
          "name": "stdout"
        }
      ]
    },
    {
      "cell_type": "code",
      "metadata": {
        "id": "cm9LrTRbPI2L",
        "colab": {
          "base_uri": "https://localhost:8080/",
          "height": 35
        },
        "outputId": "5efdf27d-323f-4af5-8359-dac19a617798"
      },
      "source": [
        "%pwd"
      ],
      "execution_count": 8,
      "outputs": [
        {
          "output_type": "execute_result",
          "data": {
            "application/vnd.google.colaboratory.intrinsic+json": {
              "type": "string"
            },
            "text/plain": [
              "'/content/FixMatch-pytorch'"
            ]
          },
          "metadata": {
            "tags": []
          },
          "execution_count": 8
        }
      ]
    },
    {
      "cell_type": "code",
      "metadata": {
        "colab": {
          "base_uri": "https://localhost:8080/"
        },
        "id": "n33GbONHaRru",
        "outputId": "3ebb21e0-5548-4473-96d5-4edc2269e281"
      },
      "source": [
        "!python main_fixmatch.py\n"
      ],
      "execution_count": 9,
      "outputs": [
        {
          "output_type": "stream",
          "text": [
            "/usr/local/lib/python3.7/dist-packages/hydra/core/default_element.py:127: UserWarning: In 'ssl/cta_pseudo': Usage of deprecated keyword in package header '# @package _group_'.\n",
            "See https://hydra.cc/docs/next/upgrades/1.0_to_1.1/changes_to_package_header for more information\n",
            "  See {url} for more information\"\"\"\n",
            "/usr/local/lib/python3.7/dist-packages/hydra/core/default_element.py:127: UserWarning: In 'solver/default': Usage of deprecated keyword in package header '# @package _group_'.\n",
            "See https://hydra.cc/docs/next/upgrades/1.0_to_1.1/changes_to_package_header for more information\n",
            "  See {url} for more information\"\"\"\n",
            "/usr/local/lib/python3.7/dist-packages/hydra/core/default_element.py:127: UserWarning: In 'dataflow/cifar10': Usage of deprecated keyword in package header '# @package _group_'.\n",
            "See https://hydra.cc/docs/next/upgrades/1.0_to_1.1/changes_to_package_header for more information\n",
            "  See {url} for more information\"\"\"\n",
            "2021-08-06 08:03:53,376 ignite.distributed.launcher.Parallel INFO: Initialized distributed launcher with backend: 'gloo'\n",
            "2021-08-06 08:03:53,377 ignite.distributed.launcher.Parallel INFO: - Parameters to spawn processes: \n",
            "\tnproc_per_node: 1\n",
            "\tnnodes: 1\n",
            "\tnode_rank: 0\n",
            "2021-08-06 08:03:53,377 ignite.distributed.launcher.Parallel INFO: Spawn function '<function training at 0x7f4f39604f80>' in 1 processes\n",
            "2021-08-06 08:03:55,132 FixMatch Training INFO: {'dataflow': {'name': 'cifar10', 'data_path': '/content/cifar10', 'batch_size': 64, 'num_workers': 1}, 'solver': {'num_epochs': 50, 'epoch_length': 128, 'checkpoint_every': 500, 'validate_every': 1, 'resume_from': None, 'optimizer': {'cls': 'torch.optim.SGD', 'params': {'lr': 0.03, 'momentum': 0.9, 'weight_decay': 0.0001, 'nesterov': False}, 'param_groups': {'lr': 0.1, 'momentum': 0.9, 'weight_decay': 0.0001, 'nesterov': False}}, 'supervised_criterion': {'cls': 'torch.nn.CrossEntropyLoss'}, 'lr_scheduler': {'cls': 'torch.optim.lr_scheduler.CosineAnnealingLR', 'params': {'eta_min': 0.0, 'T_max': None}, 'param_groups': {'eta_min': 0.0, 'T_max': None}}, 'unsupervised_criterion': {'cls': 'torch.nn.CrossEntropyLoss', 'params': {'reduction': 'none'}, 'param_groups': {'reduction': 'none'}}}, 'ssl': {'num_train_samples_per_class': 25, 'confidence_threshold': 0.7, 'lambda_u': 1.0, 'mu_ratio': 7, 'cta_update_every': 15}, 'name': 'fixmatch', 'seed': 543, 'debug': 'true', 'model': 'resnet18', 'num_classes': 10, 'ema_decay': 0.9, 'distributed': {'backend': 'gloo', 'nproc_per_node': 1}, 'online_exp_tracking': {'wandb': False}}\n",
            "Files already downloaded and verified\n",
            "2021-08-06 08:03:56,785 ignite.distributed.auto.auto_dataloader INFO: Use data loader kwargs for dataset '<dataflow.Transforme': \n",
            "\t{'batch_size': 64, 'num_workers': 0, 'pin_memory': False, 'drop_last': True, 'shuffle': True}\n",
            "Files already downloaded and verified\n",
            "2021-08-06 08:03:57,725 ignite.distributed.auto.auto_dataloader INFO: Use data loader kwargs for dataset '<dataflow.Transforme': \n",
            "\t{'batch_size': 64, 'num_workers': 1, 'pin_memory': False, 'drop_last': False, 'shuffle': False}\n",
            "Files already downloaded and verified\n",
            "2021-08-06 08:03:58,981 ignite.distributed.auto.auto_dataloader INFO: Use data loader kwargs for dataset '<dataflow.Transforme': \n",
            "\t{'batch_size': 448, 'num_workers': 0, 'drop_last': True, 'pin_memory': False, 'shuffle': True}\n",
            "Files already downloaded and verified\n",
            "2021-08-06 08:04:00,231 ignite.distributed.auto.auto_dataloader INFO: Use data loader kwargs for dataset '<dataflow.Transforme': \n",
            "\t{'batch_size': 448, 'num_workers': 0, 'pin_memory': False, 'drop_last': False, 'shuffle': True}\n",
            "2021-08-06 08:04:00.606345: I tensorflow/stream_executor/platform/default/dso_loader.cc:53] Successfully opened dynamic library libcudart.so.11.0\n",
            "2021-08-06 08:04:02,279 FixMatch Training INFO: Engine run starting with max_epochs=2.\n",
            "2021-08-06 08:04:02,314 FixMatch Training INFO: \n",
            "\n",
            "Weights norms\n",
            "- Raw model: -0.00 1.00 0.00 -0.00 1.00 0.00 -0.00 1.00 0.00 0.00 1.00 0.00 -0.00 1.00 0.00 -0.00 1.00 0.00 0.00 0.01\n",
            "- EMA model: -0.00 1.00 0.00 -0.00 1.00 0.00 -0.00 1.00 0.00 0.00 1.00 0.00 -0.00 1.00 0.00 -0.00 1.00 0.00 0.00 0.01\n",
            "\n",
            "2021-08-06 08:04:02,315 FixMatch Training INFO: \n",
            "\n",
            "BN buffers\n",
            "- Raw mean: 0.00 0.00 0.00 0.00 0.00 0.00 0.00 0.00 0.00 0.00\n",
            "- Raw var: 1.00 1.00 1.00 1.00 1.00 1.00 1.00 1.00 1.00 1.00\n",
            "- EMA mean: 0.00 0.00 0.00 0.00 0.00 0.00 0.00 0.00 0.00 0.00\n",
            "- EMA var: 1.00 1.00 1.00 1.00 1.00 1.00 1.00 1.00 1.00 1.00\n",
            "\n",
            "Engine run is terminating due to exception: Can't pickle local object 'get_test_loader.<locals>.<lambda>'\n",
            "2021-08-06 08:04:02,586 FixMatch Training ERROR: Engine run is terminating due to exception: Can't pickle local object 'get_test_loader.<locals>.<lambda>'\n",
            "Traceback (most recent call last):\n",
            "  File \"/content/FixMatch-pytorch/main_fixmatch.py\", line 205, in training\n",
            "    supervised_train_loader, epoch_length=epoch_length, max_epochs=num_epochs\n",
            "  File \"/usr/local/lib/python3.7/dist-packages/ignite/engine/engine.py\", line 701, in run\n",
            "    return self._internal_run()\n",
            "  File \"/usr/local/lib/python3.7/dist-packages/ignite/engine/engine.py\", line 774, in _internal_run\n",
            "    self._handle_exception(e)\n",
            "  File \"/usr/local/lib/python3.7/dist-packages/ignite/engine/engine.py\", line 469, in _handle_exception\n",
            "    raise e\n",
            "  File \"/usr/local/lib/python3.7/dist-packages/ignite/engine/engine.py\", line 736, in _internal_run\n",
            "    self._fire_event(Events.STARTED)\n",
            "  File \"/usr/local/lib/python3.7/dist-packages/ignite/engine/engine.py\", line 424, in _fire_event\n",
            "    func(*first, *(event_args + others), **kwargs)\n",
            "  File \"/content/FixMatch-pytorch/trainers/basic.py\", line 195, in run_evaluation\n",
            "    evaluator.run(test_loader)\n",
            "  File \"/usr/local/lib/python3.7/dist-packages/ignite/engine/engine.py\", line 701, in run\n",
            "    return self._internal_run()\n",
            "  File \"/usr/local/lib/python3.7/dist-packages/ignite/engine/engine.py\", line 774, in _internal_run\n",
            "    self._handle_exception(e)\n",
            "  File \"/usr/local/lib/python3.7/dist-packages/ignite/engine/engine.py\", line 469, in _handle_exception\n",
            "    raise e\n",
            "  File \"/usr/local/lib/python3.7/dist-packages/ignite/engine/engine.py\", line 742, in _internal_run\n",
            "    self._setup_engine()\n",
            "  File \"/usr/local/lib/python3.7/dist-packages/ignite/engine/engine.py\", line 724, in _setup_engine\n",
            "    self._dataloader_iter = iter(self.state.dataloader)\n",
            "  File \"/usr/local/lib/python3.7/dist-packages/torch/utils/data/dataloader.py\", line 359, in __iter__\n",
            "    return self._get_iterator()\n",
            "  File \"/usr/local/lib/python3.7/dist-packages/torch/utils/data/dataloader.py\", line 305, in _get_iterator\n",
            "    return _MultiProcessingDataLoaderIter(self)\n",
            "  File \"/usr/local/lib/python3.7/dist-packages/torch/utils/data/dataloader.py\", line 918, in __init__\n",
            "    w.start()\n",
            "  File \"/usr/lib/python3.7/multiprocessing/process.py\", line 112, in start\n",
            "    self._popen = self._Popen(self)\n",
            "  File \"/usr/lib/python3.7/multiprocessing/context.py\", line 223, in _Popen\n",
            "    return _default_context.get_context().Process._Popen(process_obj)\n",
            "  File \"/usr/lib/python3.7/multiprocessing/context.py\", line 284, in _Popen\n",
            "    return Popen(process_obj)\n",
            "  File \"/usr/lib/python3.7/multiprocessing/popen_spawn_posix.py\", line 32, in __init__\n",
            "    super().__init__(process_obj)\n",
            "  File \"/usr/lib/python3.7/multiprocessing/popen_fork.py\", line 20, in __init__\n",
            "    self._launch(process_obj)\n",
            "  File \"/usr/lib/python3.7/multiprocessing/popen_spawn_posix.py\", line 47, in _launch\n",
            "    reduction.dump(process_obj, fp)\n",
            "  File \"/usr/lib/python3.7/multiprocessing/reduction.py\", line 60, in dump\n",
            "    ForkingPickler(file, protocol).dump(obj)\n",
            "AttributeError: Can't pickle local object 'get_test_loader.<locals>.<lambda>'\n",
            "\n",
            "2021-08-06 08:04:03,629 ignite.distributed.launcher.Parallel INFO: End of run\n"
          ],
          "name": "stdout"
        }
      ]
    },
    {
      "cell_type": "markdown",
      "metadata": {
        "id": "msMIIkIWDddp"
      },
      "source": [
        "### Let's train WRN-28-2 model"
      ]
    },
    {
      "cell_type": "code",
      "metadata": {
        "id": "viaP4TVVdGaV"
      },
      "source": [
        "!cd FixMatch-pytorch && export PYTHONPATH=$PWD:$PYTHONPATH && \\\n",
        "  python -u main_fixmatch.py model=WRN-28-2 distributed.backend=xla-tpu distributed.nproc_per_node=8 online_exp_tracking.wandb=true"
      ],
      "execution_count": null,
      "outputs": []
    },
    {
      "cell_type": "code",
      "metadata": {
        "id": "7MK5SvZ7DkV4"
      },
      "source": [
        ""
      ],
      "execution_count": null,
      "outputs": []
    }
  ]
}